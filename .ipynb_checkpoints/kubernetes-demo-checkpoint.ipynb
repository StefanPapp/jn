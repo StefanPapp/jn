{
 "cells": [
  {
   "cell_type": "code",
   "execution_count": 4,
   "id": "c7c02883",
   "metadata": {},
   "outputs": [],
   "source": [
    "from kubernetes import client, config\n",
    "config.load_kube_config()"
   ]
  },
  {
   "cell_type": "code",
   "execution_count": 5,
   "id": "c3931fc2",
   "metadata": {},
   "outputs": [
    {
     "name": "stdout",
     "output_type": "stream",
     "text": [
      "Listing pods with their IPs:\n",
      "172.17.0.7\tdefault\tspark-pi-dc38857a585f4ebd-driver\n",
      "172.17.0.8\tdefault\tspark-pi-driver\n",
      "172.17.0.5\tenterprise-gateway\tenterprise-gateway-647648f598-jx58g\n",
      "None\tenterprise-gateway\tenterprise-gateway-6894876dc9-w8tr6\n",
      "172.17.0.6\tenterprise-gateway\tkernel-image-puller-zwh9c\n",
      "172.17.0.3\tkube-system\tcoredns-74ff55c5b-rtz2p\n",
      "192.168.49.2\tkube-system\tetcd-minikube\n",
      "192.168.49.2\tkube-system\tkube-apiserver-minikube\n",
      "192.168.49.2\tkube-system\tkube-controller-manager-minikube\n",
      "192.168.49.2\tkube-system\tkube-proxy-2dtrb\n",
      "192.168.49.2\tkube-system\tkube-scheduler-minikube\n",
      "192.168.49.2\tkube-system\tstorage-provisioner\n",
      "172.17.0.4\tkubernetes-dashboard\tdashboard-metrics-scraper-f6647bd8c-b8lkg\n",
      "172.17.0.2\tkubernetes-dashboard\tkubernetes-dashboard-968bcb79-6n52j\n",
      "172.17.0.7\tspark-operator\tsparkoperator-spark-operator-58d4d9b449-glngt\n"
     ]
    }
   ],
   "source": [
    "v1 = client.CoreV1Api()\n",
    "print(\"Listing pods with their IPs:\")\n",
    "ret = v1.list_pod_for_all_namespaces(watch=False)\n",
    "for i in ret.items:\n",
    "    print(\"%s\\t%s\\t%s\" % (i.status.pod_ip, i.metadata.namespace, i.metadata.name))"
   ]
  },
  {
   "cell_type": "code",
   "execution_count": 6,
   "id": "2a3ff3e9",
   "metadata": {},
   "outputs": [],
   "source": [
    "# install"
   ]
  },
  {
   "cell_type": "code",
   "execution_count": null,
   "id": "80f46940",
   "metadata": {},
   "outputs": [],
   "source": []
  }
 ],
 "metadata": {
  "kernelspec": {
   "display_name": "Z shell",
   "language": "zsh",
   "name": "zsh"
  },
  "language_info": {
   "codemirror_mode": {
    "name": "ipython",
    "version": 3
   },
   "file_extension": ".py",
   "mimetype": "text/x-python",
   "name": "python",
   "nbconvert_exporter": "python",
   "pygments_lexer": "ipython3",
   "version": "3.9.5"
  }
 },
 "nbformat": 4,
 "nbformat_minor": 5
}
