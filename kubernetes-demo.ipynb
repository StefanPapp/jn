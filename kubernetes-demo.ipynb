{
 "cells": [
  {
   "cell_type": "code",
   "execution_count": 10,
   "id": "6fdc2864",
   "metadata": {},
   "outputs": [],
   "source": [
    "import yaml\n",
    "import os\n",
    "import subprocess\n",
    "from kubernetes import client, config"
   ]
  },
  {
   "cell_type": "markdown",
   "id": "b5acad80-76b2-474f-921c-83bf63976547",
   "metadata": {},
   "source": [
    "# demo: how to run basic commands"
   ]
  },
  {
   "cell_type": "code",
   "execution_count": 11,
   "id": "ef4efb9b",
   "metadata": {},
   "outputs": [
    {
     "name": "stdout",
     "output_type": "stream",
     "text": [
      "Listing pods with their IPs:\n",
      "172.17.0.4\tkube-system\tcoredns-74ff55c5b-9w8cp\n",
      "192.168.49.2\tkube-system\tetcd-minikube\n",
      "192.168.49.2\tkube-system\tkube-apiserver-minikube\n",
      "192.168.49.2\tkube-system\tkube-controller-manager-minikube\n",
      "192.168.49.2\tkube-system\tkube-proxy-fj9c4\n",
      "192.168.49.2\tkube-system\tkube-scheduler-minikube\n",
      "192.168.49.2\tkube-system\tstorage-provisioner\n",
      "172.17.0.3\tkubernetes-dashboard\tdashboard-metrics-scraper-f6647bd8c-npbw8\n",
      "172.17.0.2\tkubernetes-dashboard\tkubernetes-dashboard-968bcb79-kb4fk\n",
      "None\tspark-operator\tsparkoperator-spark-operator-58d4d9b449-ztkqg\n"
     ]
    }
   ],
   "source": [
    "config.load_kube_config()\n",
    "v1 = client.CoreV1Api()\n",
    "print(\"Listing pods with their IPs:\")\n",
    "ret = v1.list_pod_for_all_namespaces(watch=False)\n",
    "for i in ret.items:\n",
    "    print(\"%s\\t%s\\t%s\" % (i.status.pod_ip, i.metadata.namespace, i.metadata.name))"
   ]
  },
  {
   "cell_type": "markdown",
   "id": "9c28ce37-8182-4f0d-ba8b-6fc7c2bbcdef",
   "metadata": {},
   "source": [
    "# How to run commands via console"
   ]
  },
  {
   "cell_type": "code",
   "execution_count": 6,
   "id": "df2cf13f",
   "metadata": {},
   "outputs": [
    {
     "data": {
      "text/plain": [
       "CompletedProcess(args='kubectl delete sparkapplication spark-pi', returncode=0)"
      ]
     },
     "execution_count": 6,
     "metadata": {},
     "output_type": "execute_result"
    }
   ],
   "source": [
    "# delete\n",
    "subprocess.run(\"kubectl delete sparkapplication spark-pi\", shell=True, check=True)\n",
    "\n",
    "#custom_object_api = client.CustomObjectsApi()\n",
    "#custom_object_api.delete_cluster_custom_object(group=\"sparkoperator.k8s.io\",\n",
    "#                                                   version=\"v1beta2\",\n",
    "#                                                   plural=\"sparkapplications\",\n",
    "#                                                   name=\"sparkapplication\"\n",
    "#                                                   )"
   ]
  },
  {
   "cell_type": "code",
   "execution_count": 12,
   "id": "9ca45c8b",
   "metadata": {},
   "outputs": [
    {
     "name": "stdout",
     "output_type": "stream",
     "text": [
      "SparkApplication created\n"
     ]
    }
   ],
   "source": [
    "with open(\"/opt/spark-on-k8s-operator/examples/spark-pi.yaml\") as f:\n",
    "    dep = yaml.safe_load(f)\n",
    "    custom_object_api = client.CustomObjectsApi()\n",
    "\n",
    "    custom_object_api.create_namespaced_custom_object(\n",
    "        group=\"sparkoperator.k8s.io\",\n",
    "        version=\"v1beta2\",\n",
    "        namespace=\"default\",\n",
    "        plural=\"sparkapplications\",\n",
    "        body=dep,\n",
    "    )\n",
    "    print(\"SparkApplication created\")"
   ]
  },
  {
   "cell_type": "code",
   "execution_count": 13,
   "id": "dfb44d3d-9006-4bc5-9cb3-39ed799981f8",
   "metadata": {},
   "outputs": [
    {
     "data": {
      "text/plain": [
       "''"
      ]
     },
     "execution_count": 13,
     "metadata": {},
     "output_type": "execute_result"
    }
   ],
   "source": [
    "subprocess.run(\"kubectl logs spark-pi-driver | grep ^Pi\", shell=True, capture_output=True, text=True).stdout"
   ]
  },
  {
   "cell_type": "code",
   "execution_count": 36,
   "id": "5e8190c0-5fd8-4b94-84af-79d411c0a991",
   "metadata": {},
   "outputs": [],
   "source": [
    "from kube_helper.util import calculate"
   ]
  },
  {
   "cell_type": "code",
   "execution_count": 38,
   "id": "578821be-ef19-4c0d-b1ee-bed0fc730c99",
   "metadata": {},
   "outputs": [
    {
     "data": {
      "text/plain": [
       "'Pi is roughly 3.14319571597858\\n'"
      ]
     },
     "execution_count": 38,
     "metadata": {},
     "output_type": "execute_result"
    }
   ],
   "source": [
    "calculate.get_pi()"
   ]
  },
  {
   "cell_type": "code",
   "execution_count": null,
   "id": "f0e134fb-7b2a-4f6b-9b3a-0c64c8c6b507",
   "metadata": {},
   "outputs": [],
   "source": []
  }
 ],
 "metadata": {
  "kernelspec": {
   "display_name": "Python 3",
   "language": "python",
   "name": "python3"
  },
  "language_info": {
   "codemirror_mode": {
    "name": "ipython",
    "version": 3
   },
   "file_extension": ".py",
   "mimetype": "text/x-python",
   "name": "python",
   "nbconvert_exporter": "python",
   "pygments_lexer": "ipython3",
   "version": "3.9.6"
  }
 },
 "nbformat": 4,
 "nbformat_minor": 5
}
